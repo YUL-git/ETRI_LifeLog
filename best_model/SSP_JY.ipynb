{
 "cells": [
  {
   "cell_type": "markdown",
   "metadata": {},
   "source": [
    "## SSP(Sleep Sensor Prediction)_JY [2]-[3]\n",
    "* Time-series Classification\n",
    "* GRU-ATT-GRU\n",
    "* 특성 추가\n",
    "* 5.9636025"
   ]
  },
  {
   "cell_type": "code",
   "execution_count": 17,
   "metadata": {},
   "outputs": [],
   "source": [
    "# !pip install pandas numpy matplotlib seaborn scikit-learn torch xgboost lightgbm catboost pyarrow fastparquet py7zr"
   ]
  },
  {
   "cell_type": "code",
   "execution_count": 1,
   "metadata": {},
   "outputs": [
    {
     "name": "stdout",
     "output_type": "stream",
     "text": [
      "Deleted: saved\\epoch=550-step=3857-v1.ckpt\n",
      "Deleted: saved\\epoch=550-step=3857.ckpt\n",
      "Deleted: saved\\epoch=999-step=7000.ckpt\n"
     ]
    }
   ],
   "source": [
    "import os\n",
    "\n",
    "directory_path = 'saved'\n",
    "\n",
    "for root, dirs, files in os.walk(directory_path):\n",
    "    for file in files:\n",
    "        if file.endswith(\".ckpt\"):\n",
    "            file_path = os.path.join(root, file)\n",
    "            os.remove(file_path)\n",
    "            print(f\"Deleted: {file_path}\")"
   ]
  },
  {
   "cell_type": "code",
   "execution_count": 12,
   "metadata": {},
   "outputs": [
    {
     "name": "stderr",
     "output_type": "stream",
     "text": [
      "Seed set to 42\n"
     ]
    },
    {
     "data": {
      "text/plain": [
       "'SSP_JY_cuda'"
      ]
     },
     "execution_count": 12,
     "metadata": {},
     "output_type": "execute_result"
    }
   ],
   "source": [
    "import warnings\n",
    "warnings.filterwarnings('ignore')\n",
    "\n",
    "import os\n",
    "import random\n",
    "import numpy as np\n",
    "import pandas as pd\n",
    "\n",
    "import seaborn as sns\n",
    "import matplotlib.pyplot as plt\n",
    "import matplotlib.patches as patches\n",
    "plt.rc('font', family='Malgun Gothic')\n",
    "plt.rcParams['axes.unicode_minus'] = False\n",
    "plt.rc('axes', unicode_minus=False)\n",
    "\n",
    "from datetime import datetime\n",
    "\n",
    "import math\n",
    "import torch\n",
    "import torch.nn as nn\n",
    "import torch.nn.functional as F\n",
    "from torch.optim.lr_scheduler import StepLR, ReduceLROnPlateau, CosineAnnealingLR\n",
    "from torch.utils.data import Dataset, DataLoader\n",
    "from torchsummary import summary\n",
    "\n",
    "import lightning as L\n",
    "from lightning.pytorch.callbacks import ModelCheckpoint\n",
    "from lightning.pytorch.callbacks.early_stopping import EarlyStopping\n",
    "\n",
    "# import wandb\n",
    "# from lightning.pytorch.loggers import WandbLogger\n",
    "\n",
    "from argparse import ArgumentParser\n",
    "\n",
    "parser = ArgumentParser(description=\"SSP_JY\")\n",
    "\n",
    "## DATA\n",
    "parser.add_argument(\"--valid_path\", default=\"./data\", type=str)\n",
    "parser.add_argument(\"--test_path\", default=\"./data\", type=str)\n",
    "parser.add_argument('--window_size', default=24, type=int)  # 수면 시간 고려하여 설정하였음\n",
    "parser.add_argument('--stride_size', default=1, type=int)  # 1시간 단위로 봄\n",
    "\n",
    "## MHA\n",
    "parser.add_argument('--num_head', default=8, type=int)\n",
    "parser.add_argument('--hid_dim', default=128, type=int)\n",
    "\n",
    "## TRAIN\n",
    "parser.add_argument('--optimizer', default=\"adamw\", type=str)\n",
    "parser.add_argument(\"--learning_rate\", default=1e-4, type=float)\n",
    "parser.add_argument(\"--weight_decay\", default=0, type=float)\n",
    "parser.add_argument('--scheduler', default=\"step\", type=str)\n",
    "parser.add_argument('--batch_size', default=16, type=int)\n",
    "parser.add_argument('--epochs', default=1000, type=int)\n",
    "parser.add_argument('--patience', default=100, type=int)\n",
    "\n",
    "parser.add_argument('--cv', default=5, type=int)\n",
    "parser.add_argument('--seed', default=42, type=int)\n",
    "parser.add_argument('--mixed_precision', default=32, type=int)\n",
    "parser.add_argument('--device', nargs='+', default=[0], type=int)\n",
    "parser.add_argument('--num_workers', default=0, type=int)\n",
    "\n",
    "args = parser.parse_args('')\n",
    "\n",
    "# wandb.init(config=args, name='SSP_JY(GAG)', project=\"ETRI_Baseline\")\n",
    "# wandb_logger = WandbLogger(name='SSP_JY(GAG)', project=\"ETRI_Baseline\")\n",
    "# wandb.config.update(args)\n",
    "\n",
    "device = torch.device('cuda') if torch.cuda.is_available() else torch.device('cpu')\n",
    "\n",
    "CFG = {\n",
    "    \"WINDOW_SIZE\" : args.window_size,\n",
    "    \"STRIDE_SIZE\" : args.stride_size,\n",
    "    \"BATCH_SIZE\" : args.batch_size,\n",
    "    \"EPOCHS\"     : args.epochs,\n",
    "    \"PATIENCE\"   : args.patience,\n",
    "    \"CV\"         : args.cv,\n",
    "    \"SEED\"       : args.seed,\n",
    "    \"VALID_PATH\" : args.valid_path,\n",
    "    \"TEST_PATH\"  : args.test_path,\n",
    "}\n",
    "\n",
    "def seed_everything(SEED):\n",
    "    os.environ['PYTHONHASHSEED'] = str(SEED)\n",
    "    random.seed(SEED)\n",
    "    np.random.seed(SEED)\n",
    "    torch.manual_seed(SEED)\n",
    "    torch.cuda.manual_seed(SEED)\n",
    "    torch.backends.cudnn.deterministic = True\n",
    "    torch.backends.cudnn.benchmark = False\n",
    "    L.seed_everything(SEED)\n",
    "\n",
    "torch.set_float32_matmul_precision('high') \n",
    "seed_everything(CFG['SEED'])\n",
    "\n",
    "idx = f\"{parser.description}_{device}\"\n",
    "idx"
   ]
  },
  {
   "cell_type": "markdown",
   "metadata": {},
   "source": [
    "## dataloader.py"
   ]
  },
  {
   "cell_type": "code",
   "execution_count": 13,
   "metadata": {},
   "outputs": [],
   "source": [
    "train_label = pd.read_csv('./data/val_label.csv')\n",
    "test_label  = pd.read_csv('./data/answer_sample.csv')\n",
    "\n",
    "train_label['date'] = pd.to_datetime(train_label['date'])\n",
    "test_label['date']  = pd.to_datetime(test_label['date'])"
   ]
  },
  {
   "cell_type": "code",
   "execution_count": 14,
   "metadata": {},
   "outputs": [
    {
     "data": {
      "text/plain": [
       "((2520, 19), (2760, 19))"
      ]
     },
     "execution_count": 14,
     "metadata": {},
     "output_type": "execute_result"
    }
   ],
   "source": [
    "train_data = pd.read_csv(os.path.join(CFG['VALID_PATH'],'train_data2.csv'))\n",
    "test_data  = pd.read_csv(os.path.join(CFG['TEST_PATH'], 'test_data2.csv'))\n",
    "\n",
    "train_data.shape, test_data.shape"
   ]
  },
  {
   "cell_type": "code",
   "execution_count": 15,
   "metadata": {},
   "outputs": [],
   "source": [
    "train_data_dict = {}\n",
    "\n",
    "for id in [1, 2, 3, 4]:\n",
    "    train_data_dict[f'train_macc_{id}'] = pd.read_csv(os.path.join(CFG['VALID_PATH'], f'train_macc_{id}-2.csv'))\n",
    "\n",
    "test_data_dict = {}\n",
    "\n",
    "for id in [5, 6, 7, 8]:\n",
    "    test_data_dict[f'test_macc_{id}'] = pd.read_csv(os.path.join(CFG['TEST_PATH'], f'test_macc_{id}-2.csv'))"
   ]
  },
  {
   "cell_type": "code",
   "execution_count": 16,
   "metadata": {},
   "outputs": [
    {
     "data": {
      "text/plain": [
       "((2520, 6), (2760, 6))"
      ]
     },
     "execution_count": 16,
     "metadata": {},
     "output_type": "execute_result"
    }
   ],
   "source": [
    "keys = train_data_dict.keys()\n",
    "train_macc = pd.DataFrame()\n",
    "\n",
    "for key in keys:\n",
    "    train_macc = pd.concat([train_macc, train_data_dict[key]], axis=0)\n",
    "\n",
    "keys = test_data_dict.keys()\n",
    "test_macc = pd.DataFrame()\n",
    "\n",
    "for key in keys:\n",
    "    test_macc = pd.concat([test_macc, test_data_dict[key]], axis=0)\n",
    "\n",
    "train_macc.fillna(0, inplace=True)\n",
    "test_macc.fillna(0, inplace=True)\n",
    "\n",
    "train_macc.shape, test_macc.shape"
   ]
  },
  {
   "cell_type": "code",
   "execution_count": 17,
   "metadata": {},
   "outputs": [],
   "source": [
    "train_data = train_data.merge(train_macc, on=['subject_id', 'hour'], how='left')\n",
    "test_data  = test_data.merge(test_macc, on=['subject_id', 'hour'], how='left')"
   ]
  },
  {
   "cell_type": "code",
   "execution_count": 18,
   "metadata": {},
   "outputs": [],
   "source": [
    "## categorical feature 처리\n",
    "\n",
    "def Info2Idx(df, cat_feat):\n",
    "    info2idx = {}\n",
    "    for f in cat_feat:\n",
    "        f_unique    = df[f].unique()\n",
    "        info2idx[f] = {k:v+1 for v, k in enumerate(f_unique)}\n",
    "    return info2idx"
   ]
  },
  {
   "cell_type": "code",
   "execution_count": 19,
   "metadata": {},
   "outputs": [],
   "source": [
    "train_data['hour'] = pd.to_datetime(train_data['hour'])\n",
    "test_data['hour']  = pd.to_datetime(test_data['hour'])\n",
    "\n",
    "train_data['time'] = train_data['hour'].dt.hour.astype(float)\n",
    "test_data['time']  = test_data['hour'].dt.hour.astype(float)"
   ]
  },
  {
   "cell_type": "code",
   "execution_count": 20,
   "metadata": {},
   "outputs": [],
   "source": [
    "train_data['month'] = train_data['hour'].dt.month.astype(float)\n",
    "test_data['month']  = test_data['hour'].dt.month.astype(float)\n",
    "\n",
    "train_data['day'] = train_data['hour'].dt.dayofweek.astype(float)\n",
    "test_data['day']  = test_data['hour'].dt.dayofweek.astype(float)"
   ]
  },
  {
   "cell_type": "code",
   "execution_count": 21,
   "metadata": {},
   "outputs": [],
   "source": [
    "cat_feat = ['activity', 'month', 'max_ambience_cls']\n",
    "total_cat = pd.concat([train_data.loc[:, cat_feat], test_data.loc[:, cat_feat]], axis=0)\n",
    "\n",
    "info2idx = Info2Idx(total_cat, cat_feat)\n",
    "\n",
    "## categorical 변수가 1개인 경우\n",
    "# train_data[cat_feat[0]] = train_data[cat_feat[0]].map(info2idx[cat_feat[0]])\n",
    "# test_data[cat_feat[0]]  = test_data[cat_feat[0]].map(info2idx[cat_feat[0]])\n",
    "\n",
    "train_data[cat_feat] = train_data[cat_feat].apply(lambda x: x.map(info2idx[x.name]))\n",
    "test_data[cat_feat]  = test_data[cat_feat].apply(lambda x: x.map(info2idx[x.name]))\n",
    "\n",
    "# args.f_sizes = [len(info2idx[i])+1 for i in cat_feat]"
   ]
  },
  {
   "cell_type": "code",
   "execution_count": 22,
   "metadata": {},
   "outputs": [
    {
     "data": {
      "text/plain": [
       "Index(['subject_id', 'hour', 'activity', 'distance', 'max_light_x',\n",
       "       'mean_light_x', 'mean_burned_calories', 'mean_running_steps',\n",
       "       'mean_steps', 'sum_burned_calories', 'sum_running_steps', 'sum_steps',\n",
       "       'max_hr', 'mean_hr', 'max_light_y', 'mean_light_y',\n",
       "       'app_total_use_time', 'app_mean_use_time', 'max_ambience_cls',\n",
       "       'average_x', 'average_y', 'average_z', 'average_magnitude', 'time',\n",
       "       'month', 'day'],\n",
       "      dtype='object')"
      ]
     },
     "execution_count": 22,
     "metadata": {},
     "output_type": "execute_result"
    }
   ],
   "source": [
    "train_data.columns"
   ]
  },
  {
   "cell_type": "code",
   "execution_count": 23,
   "metadata": {},
   "outputs": [],
   "source": [
    "def make_dataset(X, Y, window_size=CFG['WINDOW_SIZE'], stride=CFG['STRIDE_SIZE'], for_train=True):\n",
    "    \n",
    "    if for_train:\n",
    "        ids = [1,2,3,4]\n",
    "        df_label = train_label.copy()\n",
    "    else:\n",
    "        ids = [5,6,7,8]\n",
    "        df_label = test_label.copy()\n",
    "    \n",
    "    train_sequences = []\n",
    "    valid_sequences = []\n",
    "\n",
    "    train_sequences_labels = []\n",
    "    valid_sequences_labels = []\n",
    "\n",
    "    train_cols = [\n",
    "        'activity', 'distance', 'mean_light_x', 'mean_burned_calories', 'mean_running_steps', 'mean_steps', \n",
    "        'mean_hr', 'mean_light_y', 'average_x', 'average_y', 'average_z', 'average_magnitude',\n",
    "        'app_total_use_time', 'max_ambience_cls',\n",
    "        # 'time', 'day', 'month'\n",
    "                    ]\n",
    "    \n",
    "    label_cols = ['Q1', 'Q2', 'Q3', 'S1', 'S2', 'S3', 'S4']\n",
    "\n",
    "    for id in ids:\n",
    "\n",
    "        dates = df_label.loc[df_label.subject_id == id, 'date'].dt.date\n",
    "        \n",
    "        for idx, date in enumerate(dates):\n",
    "            \n",
    "            user_data  = X.loc[(X.subject_id == id) & (X.hour.dt.date == date), train_cols]\n",
    "            user_label = Y.loc[(Y.subject_id == id) & (Y.date.dt.date == date), label_cols]\n",
    "\n",
    "            user_data  = user_data.values\n",
    "            user_label = user_label.values\n",
    "            end = len(user_data) - window_size + 1\n",
    "            \n",
    "            for i in range(0, end, stride):\n",
    "                if (idx == 0) & for_train :\n",
    "                    valid_sequences.append(user_data[i : i + window_size, :])\n",
    "                    valid_sequences_labels.append(user_label)\n",
    "                elif for_train:\n",
    "                    train_sequences.append(user_data[i : i + window_size, :])\n",
    "                    train_sequences_labels.append(user_label)\n",
    "                else:\n",
    "                    train_sequences.append(user_data[i : i + window_size, :])\n",
    "                    train_sequences_labels.append(user_label)\n",
    "    \n",
    "    if for_train:\n",
    "        return np.array(train_sequences), np.array(train_sequences_labels), np.array(valid_sequences), np.array(valid_sequences_labels)\n",
    "    else:\n",
    "        return np.array(train_sequences), np.array(train_sequences_labels)"
   ]
  },
  {
   "cell_type": "code",
   "execution_count": 24,
   "metadata": {},
   "outputs": [
    {
     "data": {
      "text/plain": [
       "((101, 24, 14),\n",
       " (101, 1, 7),\n",
       " (4, 24, 14),\n",
       " (4, 1, 7),\n",
       " (115, 24, 14),\n",
       " (115, 1, 7))"
      ]
     },
     "execution_count": 24,
     "metadata": {},
     "output_type": "execute_result"
    }
   ],
   "source": [
    "train_window_data, train_window_labels, valid_window_data, valid_window_labels = make_dataset(train_data, train_label, window_size=CFG['WINDOW_SIZE'], stride=CFG['STRIDE_SIZE'], for_train=True)\n",
    "test_window_data, test_window_labels  = make_dataset(test_data, test_label, window_size=CFG['WINDOW_SIZE'], stride=CFG['STRIDE_SIZE'], for_train=False)\n",
    "\n",
    "train_window_data.shape, train_window_labels.shape, valid_window_data.shape, valid_window_labels.shape, test_window_data.shape, test_window_labels.shape"
   ]
  },
  {
   "cell_type": "code",
   "execution_count": 25,
   "metadata": {},
   "outputs": [],
   "source": [
    "class CustomDataset(Dataset):\n",
    "    def __init__(self, X, Y):\n",
    "        self.X = X\n",
    "        self.Y = Y\n",
    "        \n",
    "    def __getitem__(self, index):\n",
    "        X = torch.tensor(self.X[index], dtype=torch.float32)\n",
    "        \n",
    "        if self.Y is not None:\n",
    "            Y = torch.tensor(self.Y[index], dtype=torch.float32)\n",
    "            return X, Y\n",
    "        \n",
    "        return X\n",
    "    \n",
    "    def __len__(self):\n",
    "        return len(self.X)"
   ]
  },
  {
   "cell_type": "markdown",
   "metadata": {},
   "source": [
    "## model.py"
   ]
  },
  {
   "cell_type": "code",
   "execution_count": 26,
   "metadata": {},
   "outputs": [],
   "source": [
    "class GRUWithMultiHeadAttention(nn.Module):\n",
    "    def __init__(self, hidden_size, num_heads):\n",
    "        super(GRUWithMultiHeadAttention, self).__init__()\n",
    "        \n",
    "        self.hidden_size = hidden_size\n",
    "        self.num_heads = num_heads\n",
    "\n",
    "        self.gru_in    = nn.GRU(hidden_size, hidden_size, batch_first=True, bidirectional=True)\n",
    "        self.fc        = nn.Linear(hidden_size * 2, hidden_size)\n",
    "        self.attention = nn.MultiheadAttention(hidden_size, num_heads)\n",
    "        self.gru_out   = nn.GRU(hidden_size, hidden_size, batch_first=True)\n",
    "    \n",
    "    def forward(self, x):\n",
    "\n",
    "        outputs, hidden = self.gru_in(x)                                # BxTx(Direction * H)\n",
    "        hidden = torch.tanh(self.fc(torch.cat((hidden[-2,:,:],hidden[-1,:,:]),dim = 1))).unsqueeze(0)\n",
    "        outputs = self.fc(outputs)                                      # BxTxH\n",
    "\n",
    "        context_vec, _ = self.attention(outputs, outputs, outputs)      # BxTxH\n",
    "        \n",
    "        gru_input = context_vec[:, -1:, :]\n",
    "        gru_output, _ = self.gru_out(gru_input, hidden)                 # BxTxH\n",
    "        \n",
    "        return gru_output"
   ]
  },
  {
   "cell_type": "code",
   "execution_count": 27,
   "metadata": {},
   "outputs": [],
   "source": [
    "class BaseModel(nn.Module):\n",
    "    def __init__(self, args, input_size=8, hidden_size=args.hid_dim):\n",
    "        super(BaseModel, self).__init__()\n",
    "        \n",
    "        # 1D Convolution layers\n",
    "        self.conv_block = nn.Sequential(\n",
    "            nn.Conv1d(input_size, hidden_size//2, kernel_size=5, stride=1, padding=0),\n",
    "            nn.BatchNorm1d(hidden_size//2),\n",
    "            nn.ReLU()\n",
    "            )\n",
    "        \n",
    "        # Bidirectional GRU with Attention\n",
    "        self.gru_attention = GRUWithMultiHeadAttention(hidden_size//2, num_heads=args.num_head)\n",
    "\n",
    "        # Fully connected layers\n",
    "        self.fc = nn.Sequential(\n",
    "            nn.Linear(hidden_size//2, 7),\n",
    "            nn.Sigmoid()\n",
    "            )\n",
    "\n",
    "    def forward(self, x):\n",
    "        \n",
    "        x = x.permute(0, 2, 1)                  # BxTxF -> BxFxT\n",
    "        x = self.conv_block(x)                  # BxHxT'\n",
    "        x = x.permute(0, 2, 1)                  # BxT'xH\n",
    "        \n",
    "        gru_output = self.gru_attention(x)      # BxT'x(Direction * H)\n",
    "        output     = self.fc(gru_output[:, -1, :])  # Bx(Direction * H) -> Bx1\n",
    "\n",
    "        return output.squeeze()"
   ]
  },
  {
   "cell_type": "code",
   "execution_count": 28,
   "metadata": {},
   "outputs": [],
   "source": [
    "class BaseClassifier(L.LightningModule):\n",
    "    def __init__(self, backbone, args):\n",
    "        super().__init__()\n",
    "        self.backbone = backbone\n",
    "\n",
    "    def forward(self, x):\n",
    "        predictions = self.backbone(x)\n",
    "        return predictions\n",
    "\n",
    "    def step(self, batch):\n",
    "        x, y = batch\n",
    "        y_hat = self.backbone(x)\n",
    "        loss = nn.BCELoss()(y_hat, y.squeeze())\n",
    "        return loss, y, y_hat\n",
    "\n",
    "    def training_step(self, batch, batch_idx):\n",
    "        loss, y, y_hat = self.step(batch)\n",
    "        self.log('train_loss', loss, on_step=False, on_epoch=True, prog_bar=True)\n",
    "        return loss\n",
    "\n",
    "    def validation_step(self, batch, batch_idx):\n",
    "        loss, y, y_hat = self.step(batch)\n",
    "        self.log('val_loss', loss, on_epoch=True, prog_bar=True)\n",
    "        return loss\n",
    "\n",
    "    def test_step(self, batch, batch_idx):\n",
    "        loss, y, y_hat = self.step(batch)\n",
    "        self.log(\"test_mae\", loss, on_step=False, on_epoch=True, prog_bar=True)\n",
    "\n",
    "    def predict_step(self, batch, batch_idx):\n",
    "        x, _ = batch\n",
    "        y_hat = self.forward(x)\n",
    "        return y_hat\n",
    "\n",
    "    def configure_optimizers(self):\n",
    "        if args.optimizer == \"sgd\":\n",
    "            optimizer = torch.optim.SGD(self.parameters(), lr=args.learning_rate, momentum=0.9)\n",
    "        if args.optimizer == \"adam\":\n",
    "            optimizer = torch.optim.Adam(self.parameters(), lr=args.learning_rate)\n",
    "        if args.optimizer == \"adamw\":\n",
    "            optimizer = torch.optim.AdamW(self.parameters(), lr=args.learning_rate, weight_decay=args.weight_decay)\n",
    "        \n",
    "        if args.scheduler == \"none\":\n",
    "            return optimizer\n",
    "        if args.scheduler == \"step\":\n",
    "            scheduler = StepLR(\n",
    "                optimizer=optimizer,\n",
    "                step_size=250,\n",
    "                gamma=0.05,\n",
    "            )\n",
    "            return [optimizer], [scheduler]\n",
    "        if args.scheduler == \"cosine\":\n",
    "            scheduler = CosineAnnealingLR(\n",
    "                optimizer=optimizer,\n",
    "                T_max=args.epochs,\n",
    "                eta_min=1e-6,\n",
    "            )\n",
    "            return [optimizer], [scheduler]\n",
    "        if args.scheduler == \"plateau\":\n",
    "            scheduler = ReduceLROnPlateau(\n",
    "                optimizer=optimizer,\n",
    "                mode=\"min\",\n",
    "                factor=0.1,\n",
    "                patience=2, # 2\n",
    "                verbose=False,\n",
    "            )\n",
    "            return {\"optimizer\":optimizer, \"lr_scheduler\": scheduler, \"monitor\": \"val_loss\"}"
   ]
  },
  {
   "cell_type": "code",
   "execution_count": 29,
   "metadata": {},
   "outputs": [
    {
     "name": "stderr",
     "output_type": "stream",
     "text": [
      "GPU available: True (cuda), used: True\n",
      "TPU available: False, using: 0 TPU cores\n",
      "IPU available: False, using: 0 IPUs\n",
      "HPU available: False, using: 0 HPUs\n",
      "LOCAL_RANK: 0 - CUDA_VISIBLE_DEVICES: [0]\n",
      "LOCAL_RANK: 0 - CUDA_VISIBLE_DEVICES: [0]\n",
      "LOCAL_RANK: 0 - CUDA_VISIBLE_DEVICES: [0]\n",
      "LOCAL_RANK: 0 - CUDA_VISIBLE_DEVICES: [0]\n"
     ]
    },
    {
     "name": "stdout",
     "output_type": "stream",
     "text": [
      "────────────────────────────────────────────────────────────────────────────────────────────────────────────────────────\n",
      "     Validate metric           DataLoader 0\n",
      "────────────────────────────────────────────────────────────────────────────────────────────────────────────────────────\n",
      "        val_loss            0.6302194595336914\n",
      "────────────────────────────────────────────────────────────────────────────────────────────────────────────────────────\n",
      "val_loss: 0.6302194595336914\n"
     ]
    }
   ],
   "source": [
    "train_dataset = CustomDataset(train_window_data, train_window_labels)\n",
    "valid_dataset = CustomDataset(valid_window_data, valid_window_labels)\n",
    "test_dataset  = CustomDataset(test_window_data, test_window_labels)\n",
    "\n",
    "train_loader  = DataLoader(train_dataset, batch_size=CFG['BATCH_SIZE'], shuffle=True)\n",
    "valid_loader  = DataLoader(valid_dataset, batch_size=CFG['BATCH_SIZE'], shuffle=False)\n",
    "test_loader   = DataLoader(test_dataset, batch_size=CFG['BATCH_SIZE'], shuffle=False)\n",
    "\n",
    "##\n",
    "model   = BaseClassifier(BaseModel(args, input_size=train_window_data.shape[2]), args)\n",
    "\n",
    "early_stop_callback = EarlyStopping(\n",
    "    monitor=\"train_loss\", \n",
    "    patience=CFG['PATIENCE'], \n",
    "    mode=\"min\"\n",
    "    )\n",
    "\n",
    "checkpoint_callback = ModelCheckpoint(\n",
    "    dirpath=os.path.join(os.getcwd(),'saved'),\n",
    "    save_top_k=1,\n",
    "    verbose=False,\n",
    "    monitor='train_loss',\n",
    "    mode='min',\n",
    "    )\n",
    "\n",
    "trainer = L.Trainer(\n",
    "    max_epochs=CFG[\"EPOCHS\"], accelerator=\"auto\", \n",
    "    enable_progress_bar=False,\n",
    "    enable_model_summary=False,\n",
    "    callbacks=[early_stop_callback, checkpoint_callback],\n",
    "    devices=args.device#, logger=wandb_logger,\n",
    ")\n",
    "\n",
    "trainer.fit(model, train_loader, valid_loader)\n",
    "checkpoint_callback.best_model_path\n",
    "\n",
    "eval_dict = trainer.validate(model, dataloaders=valid_loader)[0]\n",
    "valid_loss = eval_dict[\"val_loss\"]\n",
    "\n",
    "y_valid_preds = trainer.predict(model, dataloaders=valid_loader)\n",
    "y_preds = trainer.predict(model, dataloaders=test_loader)\n",
    "\n",
    "print(f\"val_loss: {valid_loss}\")\n",
    "# wandb.log({'val_loss': valid_loss})"
   ]
  },
  {
   "cell_type": "code",
   "execution_count": 30,
   "metadata": {},
   "outputs": [
    {
     "data": {
      "text/plain": [
       "(4, 7)"
      ]
     },
     "execution_count": 30,
     "metadata": {},
     "output_type": "execute_result"
    }
   ],
   "source": [
    "final_valid_pred = torch.vstack(y_valid_preds)\n",
    "final_valid_pred = final_valid_pred.cpu().numpy()\n",
    "final_valid_pred = np.where(final_valid_pred > 0.5, 1, 0)\n",
    "final_valid_pred.shape"
   ]
  },
  {
   "cell_type": "code",
   "execution_count": 32,
   "metadata": {},
   "outputs": [
    {
     "name": "stdout",
     "output_type": "stream",
     "text": [
      "f1_score_1: 1.2000000000000002\n",
      "f1_score_2: 1.2857142857142856\n",
      "f1_score_3: 0.8\n",
      "f1_score_4: 0.0\n",
      "f1_score_5: 1.0\n",
      "f1_score_6: 0.75\n",
      "f1_score_7: 1.0\n",
      "total_f1: 6.035714285714286\n"
     ]
    }
   ],
   "source": [
    "from sklearn.metrics import f1_score\n",
    "\n",
    "total_f1 = 0\n",
    "fina_valid_real = valid_window_labels.squeeze(1)\n",
    "\n",
    "for i in range(7):\n",
    "\n",
    "    if i == 2:\n",
    "        weight = 1.0\n",
    "    else:\n",
    "        weight = 1.5\n",
    "    \n",
    "    f1 = f1_score(fina_valid_real[:,i], final_valid_pred[:,i])\n",
    "    f1 *= weight\n",
    "    total_f1 += f1\n",
    "\n",
    "    print(f\"f1_score_{i+1}: {f1}\")\n",
    "    # wandb.log({f'f1_score_{i+1}': f1})\n",
    "print(f\"total_f1: {total_f1}\")\n",
    "# wandb.log({'total_f1': total_f1})"
   ]
  },
  {
   "cell_type": "code",
   "execution_count": 33,
   "metadata": {},
   "outputs": [
    {
     "data": {
      "text/plain": [
       "(115, 7)"
      ]
     },
     "execution_count": 33,
     "metadata": {},
     "output_type": "execute_result"
    }
   ],
   "source": [
    "final_preds = torch.vstack(y_preds)\n",
    "final_preds = final_preds.cpu().numpy()\n",
    "final_preds = np.where(final_preds > 0.5, 1, 0)\n",
    "final_preds.shape"
   ]
  },
  {
   "cell_type": "code",
   "execution_count": 34,
   "metadata": {},
   "outputs": [
    {
     "data": {
      "image/png": "[encoded data removed]",
      "text/plain": [
       "<Figure size 1000x500 with 1 Axes>"
      ]
     },
     "metadata": {},
     "output_type": "display_data"
    }
   ],
   "source": [
    "x = ['Q1', 'Q2', 'Q3', 'S1', 'S2', 'S3', 'S4']\n",
    "for_barplot = pd.DataFrame(final_preds, columns=x)\n",
    "\n",
    "plt.figure(figsize=(10,5))\n",
    "sns.barplot(train_label.iloc[:, 2:].sum(0)/ 105, alpha=0.3, label='train', color='blue')\n",
    "sns.barplot(for_barplot.sum(0)/115, alpha=0.3, label='pred', color='red')\n",
    "\n",
    "plt.grid()\n",
    "plt.legend()\n",
    "plt.show()"
   ]
  },
  {
   "cell_type": "code",
   "execution_count": 35,
   "metadata": {},
   "outputs": [
    {
     "name": "stdout",
     "output_type": "stream",
     "text": [
      "            Q1  Q2  Q3  S1  S2  S3  S4\n",
      "subject_id                            \n",
      "5            4  19   0   0   0   1   0\n",
      "6           22  29   9   0   6  25   1\n",
      "7           33  33  18   0  29  31  29\n",
      "8           25  27   1   9   3   9   8\n"
     ]
    }
   ],
   "source": [
    "for_barplot['subject_id'] = test_label.subject_id.values\n",
    "print(for_barplot.groupby('subject_id').sum())"
   ]
  },
  {
   "cell_type": "code",
   "execution_count": 36,
   "metadata": {},
   "outputs": [
    {
     "data": {
      "text/plain": [
       "(Q1            0.730435\n",
       " Q2            0.939130\n",
       " Q3            0.243478\n",
       " S1            0.078261\n",
       " S2            0.330435\n",
       " S3            0.573913\n",
       " S4            0.330435\n",
       " subject_id    6.617391\n",
       " dtype: float64,\n",
       " Q1             84\n",
       " Q2            108\n",
       " Q3             28\n",
       " S1              9\n",
       " S2             38\n",
       " S3             66\n",
       " S4             38\n",
       " subject_id    761\n",
       " dtype: int64)"
      ]
     },
     "execution_count": 36,
     "metadata": {},
     "output_type": "execute_result"
    }
   ],
   "source": [
    "for_barplot.iloc[:, :].sum(0)/ 115, for_barplot.iloc[:, :].sum(0)"
   ]
  },
  {
   "cell_type": "code",
   "execution_count": 37,
   "metadata": {},
   "outputs": [],
   "source": [
    "# wandb.finish()"
   ]
  },
  {
   "cell_type": "code",
   "execution_count": 39,
   "metadata": {},
   "outputs": [],
   "source": [
    "now = datetime.now()\n",
    "date = str(now.date()).replace('-', '_')\n",
    "time = str(now.time()).replace(':', '_')\n",
    "\n",
    "submmit = pd.read_csv('./data/answer_sample.csv')\n",
    "submmit.iloc[:, 2:] = final_preds\n",
    "submmit.to_csv(f'./submission/submission_{idx}_{date}_{time}.csv', index=False)"
   ]
  },
  {
   "cell_type": "code",
   "execution_count": 316,
   "metadata": {},
   "outputs": [
    {
     "data": {
      "text/html": [
       "<div>\n",
       "<style scoped>\n",
       "    .dataframe tbody tr th:only-of-type {\n",
       "        vertical-align: middle;\n",
       "    }\n",
       "\n",
       "    .dataframe tbody tr th {\n",
       "        vertical-align: top;\n",
       "    }\n",
       "\n",
       "    .dataframe thead th {\n",
       "        text-align: right;\n",
       "    }\n",
       "</style>\n",
       "<table border=\"1\" class=\"dataframe\">\n",
       "  <thead>\n",
       "    <tr style=\"text-align: right;\">\n",
       "      <th></th>\n",
       "      <th>subject_id</th>\n",
       "      <th>date</th>\n",
       "      <th>Q1</th>\n",
       "      <th>Q2</th>\n",
       "      <th>Q3</th>\n",
       "      <th>S1</th>\n",
       "      <th>S2</th>\n",
       "      <th>S3</th>\n",
       "      <th>S4</th>\n",
       "    </tr>\n",
       "  </thead>\n",
       "  <tbody>\n",
       "    <tr>\n",
       "      <th>0</th>\n",
       "      <td>5</td>\n",
       "      <td>2023-11-05</td>\n",
       "      <td>0</td>\n",
       "      <td>1</td>\n",
       "      <td>0</td>\n",
       "      <td>1</td>\n",
       "      <td>0</td>\n",
       "      <td>0</td>\n",
       "      <td>0</td>\n",
       "    </tr>\n",
       "    <tr>\n",
       "      <th>1</th>\n",
       "      <td>5</td>\n",
       "      <td>2023-11-06</td>\n",
       "      <td>0</td>\n",
       "      <td>1</td>\n",
       "      <td>0</td>\n",
       "      <td>0</td>\n",
       "      <td>0</td>\n",
       "      <td>0</td>\n",
       "      <td>0</td>\n",
       "    </tr>\n",
       "    <tr>\n",
       "      <th>2</th>\n",
       "      <td>5</td>\n",
       "      <td>2023-11-07</td>\n",
       "      <td>1</td>\n",
       "      <td>1</td>\n",
       "      <td>0</td>\n",
       "      <td>0</td>\n",
       "      <td>0</td>\n",
       "      <td>0</td>\n",
       "      <td>0</td>\n",
       "    </tr>\n",
       "    <tr>\n",
       "      <th>3</th>\n",
       "      <td>5</td>\n",
       "      <td>2023-11-08</td>\n",
       "      <td>0</td>\n",
       "      <td>1</td>\n",
       "      <td>1</td>\n",
       "      <td>1</td>\n",
       "      <td>0</td>\n",
       "      <td>0</td>\n",
       "      <td>0</td>\n",
       "    </tr>\n",
       "    <tr>\n",
       "      <th>4</th>\n",
       "      <td>5</td>\n",
       "      <td>2023-11-09</td>\n",
       "      <td>0</td>\n",
       "      <td>1</td>\n",
       "      <td>0</td>\n",
       "      <td>1</td>\n",
       "      <td>0</td>\n",
       "      <td>0</td>\n",
       "      <td>0</td>\n",
       "    </tr>\n",
       "    <tr>\n",
       "      <th>...</th>\n",
       "      <td>...</td>\n",
       "      <td>...</td>\n",
       "      <td>...</td>\n",
       "      <td>...</td>\n",
       "      <td>...</td>\n",
       "      <td>...</td>\n",
       "      <td>...</td>\n",
       "      <td>...</td>\n",
       "      <td>...</td>\n",
       "    </tr>\n",
       "    <tr>\n",
       "      <th>110</th>\n",
       "      <td>8</td>\n",
       "      <td>2023-11-05</td>\n",
       "      <td>1</td>\n",
       "      <td>0</td>\n",
       "      <td>0</td>\n",
       "      <td>1</td>\n",
       "      <td>1</td>\n",
       "      <td>0</td>\n",
       "      <td>1</td>\n",
       "    </tr>\n",
       "    <tr>\n",
       "      <th>111</th>\n",
       "      <td>8</td>\n",
       "      <td>2023-11-06</td>\n",
       "      <td>1</td>\n",
       "      <td>0</td>\n",
       "      <td>0</td>\n",
       "      <td>1</td>\n",
       "      <td>0</td>\n",
       "      <td>0</td>\n",
       "      <td>0</td>\n",
       "    </tr>\n",
       "    <tr>\n",
       "      <th>112</th>\n",
       "      <td>8</td>\n",
       "      <td>2023-11-07</td>\n",
       "      <td>1</td>\n",
       "      <td>1</td>\n",
       "      <td>0</td>\n",
       "      <td>1</td>\n",
       "      <td>0</td>\n",
       "      <td>0</td>\n",
       "      <td>0</td>\n",
       "    </tr>\n",
       "    <tr>\n",
       "      <th>113</th>\n",
       "      <td>8</td>\n",
       "      <td>2023-11-08</td>\n",
       "      <td>0</td>\n",
       "      <td>1</td>\n",
       "      <td>0</td>\n",
       "      <td>0</td>\n",
       "      <td>0</td>\n",
       "      <td>0</td>\n",
       "      <td>0</td>\n",
       "    </tr>\n",
       "    <tr>\n",
       "      <th>114</th>\n",
       "      <td>8</td>\n",
       "      <td>2023-11-09</td>\n",
       "      <td>1</td>\n",
       "      <td>1</td>\n",
       "      <td>0</td>\n",
       "      <td>0</td>\n",
       "      <td>1</td>\n",
       "      <td>0</td>\n",
       "      <td>0</td>\n",
       "    </tr>\n",
       "  </tbody>\n",
       "</table>\n",
       "<p>115 rows × 9 columns</p>\n",
       "</div>"
      ],
      "text/plain": [
       "     subject_id        date  Q1  Q2  Q3  S1  S2  S3  S4\n",
       "0             5  2023-11-05   0   1   0   1   0   0   0\n",
       "1             5  2023-11-06   0   1   0   0   0   0   0\n",
       "2             5  2023-11-07   1   1   0   0   0   0   0\n",
       "3             5  2023-11-08   0   1   1   1   0   0   0\n",
       "4             5  2023-11-09   0   1   0   1   0   0   0\n",
       "..          ...         ...  ..  ..  ..  ..  ..  ..  ..\n",
       "110           8  2023-11-05   1   0   0   1   1   0   1\n",
       "111           8  2023-11-06   1   0   0   1   0   0   0\n",
       "112           8  2023-11-07   1   1   0   1   0   0   0\n",
       "113           8  2023-11-08   0   1   0   0   0   0   0\n",
       "114           8  2023-11-09   1   1   0   0   1   0   0\n",
       "\n",
       "[115 rows x 9 columns]"
      ]
     },
     "execution_count": 316,
     "metadata": {},
     "output_type": "execute_result"
    }
   ],
   "source": [
    "submmit"
   ]
  }
 ],
 "metadata": {
  "kernelspec": {
   "display_name": "etri",
   "language": "python",
   "name": "python3"
  },
  "language_info": {
   "codemirror_mode": {
    "name": "ipython",
    "version": 3
   },
   "file_extension": ".py",
   "mimetype": "text/x-python",
   "name": "python",
   "nbconvert_exporter": "python",
   "pygments_lexer": "ipython3",
   "version": "3.12.3"
  }
 },
 "nbformat": 4,
 "nbformat_minor": 2
}
